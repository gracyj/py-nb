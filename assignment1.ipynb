{
 "cells": [
  {
   "cell_type": "code",
   "execution_count": 1,
   "metadata": {},
   "outputs": [
    {
     "name": "stdout",
     "output_type": "stream",
     "text": [
      "spam\n",
      "bery\n"
     ]
    }
   ],
   "source": [
    "a=\"spam\"\n",
    "b=a\n",
    "b=\"bery\"\n",
    "print(a)\n",
    "print(b)"
   ]
  },
  {
   "cell_type": "code",
   "execution_count": 2,
   "metadata": {},
   "outputs": [
    {
     "name": "stdout",
     "output_type": "stream",
     "text": [
      "['bery']\n",
      "['bery']\n"
     ]
    }
   ],
   "source": [
    "a=[\"spam\"]\n",
    "b=a\n",
    "b[0]=\"bery\"\n",
    "print(a)\n",
    "print(b)"
   ]
  },
  {
   "cell_type": "code",
   "execution_count": 3,
   "metadata": {},
   "outputs": [
    {
     "name": "stdout",
     "output_type": "stream",
     "text": [
      "['spam']\n",
      "['bery']\n"
     ]
    }
   ],
   "source": [
    "a=[\"spam\"]\n",
    "b=a[:]\n",
    "b[0]=\"bery\"\n",
    "print(a)\n",
    "print(b)"
   ]
  },
  {
   "cell_type": "code",
   "execution_count": 2,
   "metadata": {},
   "outputs": [
    {
     "name": "stdout",
     "output_type": "stream",
     "text": [
      "enter usernamegracy\n",
      "hello gracy\n"
     ]
    }
   ],
   "source": [
    "v=input(\"enter username\")\n",
    "print(\"hello\",v)"
   ]
  },
  {
   "cell_type": "code",
   "execution_count": 7,
   "metadata": {},
   "outputs": [
    {
     "name": "stdout",
     "output_type": "stream",
     "text": [
      "enter length1.2\n",
      "enter width2\n"
     ]
    }
   ],
   "source": [
    "l=float(input(\" enter length \"))\n",
    "w=float(input(\" enter width\"))"
   ]
  },
  {
   "cell_type": "code",
   "execution_count": 8,
   "metadata": {},
   "outputs": [
    {
     "name": "stdout",
     "output_type": "stream",
     "text": [
      "2.4\n"
     ]
    }
   ],
   "source": [
    "area=l*w\n",
    "print(area)"
   ]
  },
  {
   "cell_type": "code",
   "execution_count": 13,
   "metadata": {},
   "outputs": [
    {
     "name": "stdout",
     "output_type": "stream",
     "text": [
      "enter the no upto which you want to print sum 5\n"
     ]
    }
   ],
   "source": [
    "n=int(input(\"enter the no upto which you want to print sum \"))"
   ]
  },
  {
   "cell_type": "code",
   "execution_count": 16,
   "metadata": {},
   "outputs": [
    {
     "name": "stdout",
     "output_type": "stream",
     "text": [
      "15.0\n"
     ]
    }
   ],
   "source": [
    "total=(n*(n+1)/2)\n",
    "print(total)     "
   ]
  },
  {
   "cell_type": "code",
   "execution_count": 27,
   "metadata": {},
   "outputs": [
    {
     "name": "stdout",
     "output_type": "stream",
     "text": [
      "enter first no3\n",
      "enter second no5\n",
      "3.0\n",
      "5.0\n"
     ]
    }
   ],
   "source": [
    "f=float(input(\"enter first no\"))\n",
    "s=float(input(\"enter second no\"))\n",
    "print(f)\n",
    "print(s)"
   ]
  },
  {
   "cell_type": "code",
   "execution_count": 35,
   "metadata": {},
   "outputs": [
    {
     "name": "stdout",
     "output_type": "stream",
     "text": [
      "addition is  8.0\n",
      "difference is  -2.0\n",
      "product is  15.0\n",
      "quotient is  0.6\n",
      "result of f power s is 243.0\n",
      "remainder is 3.0\n"
     ]
    }
   ],
   "source": [
    "print(\"addition is \",f+s)\n",
    "print(\"difference is \",f-s)\n",
    "print(\"product is \",f*s)\n",
    "print(\"quotient is \",f/s)\n",
    "print(\"result of f power s is\",f**s)\n",
    "print(\"remainder is\",f%s)"
   ]
  },
  {
   "cell_type": "code",
   "execution_count": 3,
   "metadata": {},
   "outputs": [
    {
     "name": "stdout",
     "output_type": "stream",
     "text": [
      "enter height in feet 3\n",
      "enter height in inches 4\n",
      "3.0\n",
      "4.0\n",
      "cm equivalent of height  is  365.76 cm\n"
     ]
    }
   ],
   "source": [
    "ft=float(input(\"enter height in feet \"))\n",
    "inch=float(input(\"enter height in inches \"))\n",
    "print(ft)\n",
    "print(inch)\n",
    "h1cm=(ft*12*inch)*2.54\n",
    "print(\"cm equivalent of height  is \",h1cm,\"cm\")"
   ]
  }
 ],
 "metadata": {
  "kernelspec": {
   "display_name": "Python 3",
   "language": "python",
   "name": "python3"
  },
  "language_info": {
   "codemirror_mode": {
    "name": "ipython",
    "version": 3
   },
   "file_extension": ".py",
   "mimetype": "text/x-python",
   "name": "python",
   "nbconvert_exporter": "python",
   "pygments_lexer": "ipython3",
   "version": "3.6.5"
  }
 },
 "nbformat": 4,
 "nbformat_minor": 2
}
