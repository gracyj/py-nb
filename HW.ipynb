{
 "cells": [
  {
   "cell_type": "code",
   "execution_count": 2,
   "metadata": {},
   "outputs": [
    {
     "name": "stdout",
     "output_type": "stream",
     "text": [
      "spam\n",
      "shrubbery\n"
     ]
    }
   ],
   "source": [
    "a=\"spam\"\n",
    "b = a\n",
    "b = \"shrubbery\"\n",
    "print(a)\n",
    "print(b)"
   ]
  },
  {
   "cell_type": "code",
   "execution_count": 3,
   "metadata": {},
   "outputs": [
    {
     "name": "stdout",
     "output_type": "stream",
     "text": [
      "['shrubbery']\n",
      "['shrubbery']\n"
     ]
    }
   ],
   "source": [
    "a= [\"spam\"]\n",
    "b= a\n",
    "b[0]= \"shrubbery\"\n",
    "print(a)\n",
    "print(b)"
   ]
  },
  {
   "cell_type": "code",
   "execution_count": 4,
   "metadata": {},
   "outputs": [
    {
     "name": "stdout",
     "output_type": "stream",
     "text": [
      "['spam']\n",
      "['shrubbery']\n"
     ]
    }
   ],
   "source": [
    "a=[\"spam\"]\n",
    "b=a[:]\n",
    "b[0]=\"shrubbery\"\n",
    "print(a)\n",
    "print(b)"
   ]
  },
  {
   "cell_type": "code",
   "execution_count": 5,
   "metadata": {},
   "outputs": [
    {
     "name": "stdout",
     "output_type": "stream",
     "text": [
      "name \n",
      "hello  !!\n"
     ]
    }
   ],
   "source": [
    "name = input(\"name \")\n",
    "print(\"hello\",name,\"!!\")"
   ]
  },
  {
   "cell_type": "code",
   "execution_count": 7,
   "metadata": {},
   "outputs": [
    {
     "name": "stdout",
     "output_type": "stream",
     "text": [
      "enter length in feet5\n",
      "enter width in feet5\n",
      "area in feet =  25\n"
     ]
    }
   ],
   "source": [
    "l = input(\"enter length in feet\")\n",
    "b = input(\"enter width in feet\")\n",
    "area  = int(l)*int(b)\n",
    "print(\"area in feet = \", area)"
   ]
  },
  {
   "cell_type": "code",
   "execution_count": 8,
   "metadata": {},
   "outputs": [
    {
     "name": "stdout",
     "output_type": "stream",
     "text": [
      "enter a number4\n",
      "10.0\n"
     ]
    }
   ],
   "source": [
    "i = (input(\"enter a number\"))\n",
    "s=int(i)*(int(i)+1)/2\n",
    "print(s)"
   ]
  },
  {
   "cell_type": "code",
   "execution_count": 9,
   "metadata": {},
   "outputs": [
    {
     "name": "stdout",
     "output_type": "stream",
     "text": [
      "enter a 10\n",
      "enter b 5\n",
      "sum =  15\n",
      "diff.=  5\n",
      "product =  50\n",
      "Quotient =  2\n",
      "Remainder =  0\n",
      "exp =  100000\n"
     ]
    }
   ],
   "source": [
    "a= (input(\"enter a \"))\n",
    "b= (input(\"enter b \"))\n",
    "s=int(a)+int(b)\n",
    "d=int(a)-int(b)\n",
    "m=int(a)*int(b)\n",
    "q=int(a)//int(b)\n",
    "r=int(a)%int(b)\n",
    "p=int(a)**int(b)\n",
    "print(\"sum = \",s)\n",
    "print(\"diff.= \",d)\n",
    "print(\"product = \",m)\n",
    "print(\"Quotient = \",q)\n",
    "print(\"Remainder = \",r)\n",
    "print(\"exp = \",p)"
   ]
  },
  {
   "cell_type": "code",
   "execution_count": 8,
   "metadata": {},
   "outputs": [
    {
     "name": "stdout",
     "output_type": "stream",
     "text": [
      "feet 5\n",
      "inches 3\n",
      "157.5 centimeters\n"
     ]
    }
   ],
   "source": [
    "f = input(\"feet \")\n",
    "i = input(\"inches \")\n",
    "c = ((float(f)*12)+float(i))*2.5\n",
    "print(c, \"centimeters\")"
   ]
  },
  {
   "cell_type": "code",
   "execution_count": 17,
   "metadata": {},
   "outputs": [
    {
     "name": "stdout",
     "output_type": "stream",
     "text": [
      "enter number3\n",
      "enter number3\n",
      "enter number0\n",
      "4.5\n"
     ]
    }
   ],
   "source": [
    "count=0\n",
    "for item in range(0,20):\n",
    "    i=int(input(\"enter number\"))\n",
    "    if i==0:\n",
    "        break\n",
    "    else:\n",
    "        j=j+i\n",
    "        count=count+1\n",
    "if count==0:\n",
    "    print(\"first number cannot be zero\")\n",
    "else:\n",
    "    avg=j/count\n",
    "    print(avg)"
   ]
  },
  {
   "cell_type": "code",
   "execution_count": 20,
   "metadata": {
    "scrolled": true
   },
   "outputs": [
    {
     "name": "stdout",
     "output_type": "stream",
     "text": [
      "enter height of trianle3.0\n",
      "enter base4.0\n",
      "5.0\n"
     ]
    }
   ],
   "source": [
    "h=float(input(\"enter height of trianle\"))\n",
    "b=float(input(\"enter base\"))\n",
    "hp=((h**2)+(b**2))**0.5\n",
    "print(hp)"
   ]
  },
  {
   "cell_type": "code",
   "execution_count": 1,
   "metadata": {},
   "outputs": [
    {
     "name": "stdout",
     "output_type": "stream",
     "text": [
      "enter stringhi i am Muskan\n",
      "hi I am Muskan\n"
     ]
    }
   ],
   "source": [
    "name=input(\"enter string\")\n",
    "name=name.capitalize()\n",
    "name=name.replace(\" i \", \" I \")\n",
    "print(name)\n"
   ]
  },
  {
   "cell_type": "code",
   "execution_count": 13,
   "metadata": {},
   "outputs": [],
   "source": [
    "def cap(name1):\n",
    "    name=name1.capitalize()\n",
    "    name=name.replace(\" i \", \" I \")\n",
    "    return name"
   ]
  },
  {
   "cell_type": "code",
   "execution_count": 14,
   "metadata": {},
   "outputs": [],
   "source": [
    "##print(cap(\"hi!! i am Muskan\"))"
   ]
  },
  {
   "cell_type": "code",
   "execution_count": 15,
   "metadata": {},
   "outputs": [
    {
     "name": "stdout",
     "output_type": "stream",
     "text": [
      "enter stirng bello\n",
      "Bello\n"
     ]
    }
   ],
   "source": [
    "n=input(\"enter stirng \")\n",
    "print(cap(n)) "
   ]
  },
  {
   "cell_type": "code",
   "execution_count": 51,
   "metadata": {},
   "outputs": [
    {
     "name": "stdout",
     "output_type": "stream",
     "text": [
      "enter number2\n",
      "enter number4\n",
      "enter number6\n",
      "enter number8\n",
      "enter number0\n",
      "[2, 4, 6, 8]\n",
      "[8, 6, 4, 2]\n"
     ]
    }
   ],
   "source": [
    "ig=[]\n",
    "for i in range(0,20):\n",
    "    a=int(input(\"enter number\"))\n",
    "    if a==0:\n",
    "        break\n",
    "    else:\n",
    "        ig.append(a)\n",
    "        count=count+1\n",
    "print(ig)\n",
    "print(ig[count::-1])\n",
    "    "
   ]
  },
  {
   "cell_type": "code",
   "execution_count": 1,
   "metadata": {},
   "outputs": [
    {
     "name": "stdout",
     "output_type": "stream",
     "text": [
      "enter namehi\n"
     ]
    },
    {
     "ename": "KeyError",
     "evalue": "'h'",
     "output_type": "error",
     "traceback": [
      "\u001b[1;31m---------------------------------------------------------------------------\u001b[0m",
      "\u001b[1;31mKeyError\u001b[0m                                  Traceback (most recent call last)",
      "\u001b[1;32m<ipython-input-1-3ed9da1afdd9>\u001b[0m in \u001b[0;36m<module>\u001b[1;34m()\u001b[0m\n\u001b[0;32m      2\u001b[0m \u001b[0mstring\u001b[0m\u001b[1;33m=\u001b[0m\u001b[0minput\u001b[0m\u001b[1;33m(\u001b[0m\u001b[1;34m\"enter name\"\u001b[0m\u001b[1;33m)\u001b[0m\u001b[1;33m\u001b[0m\u001b[0m\n\u001b[0;32m      3\u001b[0m \u001b[1;32mfor\u001b[0m \u001b[0mi\u001b[0m \u001b[1;32min\u001b[0m \u001b[0mstring\u001b[0m\u001b[1;33m:\u001b[0m\u001b[1;33m\u001b[0m\u001b[0m\n\u001b[1;32m----> 4\u001b[1;33m     \u001b[0mprint\u001b[0m\u001b[1;33m(\u001b[0m\u001b[0mmores\u001b[0m\u001b[1;33m[\u001b[0m\u001b[0mi\u001b[0m\u001b[1;33m]\u001b[0m\u001b[1;33m,\u001b[0m \u001b[0mend\u001b[0m\u001b[1;33m=\u001b[0m\u001b[1;34m\" \"\u001b[0m\u001b[1;33m)\u001b[0m\u001b[1;33m\u001b[0m\u001b[0m\n\u001b[0m",
      "\u001b[1;31mKeyError\u001b[0m: 'h'"
     ]
    }
   ],
   "source": [
    "mores={\"A\" : \".-\", \"B\":\"-...\", \"C\":\"-.-.\", \"D\":\"-..\", \"E\":\".\", \"F\":\"..-.\",\"G\":\"--.\", \"H\":\"....\", \"I\":\"..\", \"J\":\".---\", \"K\":\"-.-\", \"L\":\".-..\", \"M\":\"--\", \"N\":\"-.\", \"O\":\"---\", \"P\":\".--.\", \"Q\": \"--.-\", \"R\":\".-.\", \"S\":\"...\", \"T\":\"-\", \"U\":\"..-\", \"V\":\"...-\"}\n",
    "string=input(\"enter name\")\n",
    "for i in string:\n",
    "    print(mores[i], end=\" \")"
   ]
  },
  {
   "cell_type": "code",
   "execution_count": 27,
   "metadata": {},
   "outputs": [
    {
     "data": {
      "text/plain": [
       "3"
      ]
     },
     "execution_count": 27,
     "metadata": {},
     "output_type": "execute_result"
    }
   ],
   "source": [
    "from random import randint\n",
    "\n",
    "randint(0,9)"
   ]
  },
  {
   "cell_type": "code",
   "execution_count": 22,
   "metadata": {},
   "outputs": [
    {
     "data": {
      "text/plain": [
       "'Q'"
      ]
     },
     "execution_count": 22,
     "metadata": {},
     "output_type": "execute_result"
    }
   ],
   "source": [
    "letter_string = \"ABCDEFGHIJKLMNOPQRSTUVWXYZ\"\n",
    "\n",
    "letter_1 = randint(0,25)\n",
    "letter_1 = letter_string[letter_1]\n",
    "\n",
    "letter_1"
   ]
  },
  {
   "cell_type": "code",
   "execution_count": null,
   "metadata": {},
   "outputs": [],
   "source": []
  }
 ],
 "metadata": {
  "kernelspec": {
   "display_name": "Python 3",
   "language": "python",
   "name": "python3"
  },
  "language_info": {
   "codemirror_mode": {
    "name": "ipython",
    "version": 3
   },
   "file_extension": ".py",
   "mimetype": "text/x-python",
   "name": "python",
   "nbconvert_exporter": "python",
   "pygments_lexer": "ipython3",
   "version": "3.6.5"
  }
 },
 "nbformat": 4,
 "nbformat_minor": 2
}
