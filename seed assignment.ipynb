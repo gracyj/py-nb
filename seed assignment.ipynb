{
 "cells": [
  {
   "cell_type": "code",
   "execution_count": 1,
   "metadata": {},
   "outputs": [],
   "source": [
    "import pandas as pd\n",
    "import numpy as np\n",
    "import matplotlib.pyplot as plt"
   ]
  },
  {
   "cell_type": "code",
   "execution_count": 2,
   "metadata": {},
   "outputs": [
    {
     "data": {
      "text/html": [
       "<div>\n",
       "<style scoped>\n",
       "    .dataframe tbody tr th:only-of-type {\n",
       "        vertical-align: middle;\n",
       "    }\n",
       "\n",
       "    .dataframe tbody tr th {\n",
       "        vertical-align: top;\n",
       "    }\n",
       "\n",
       "    .dataframe thead th {\n",
       "        text-align: right;\n",
       "    }\n",
       "</style>\n",
       "<table border=\"1\" class=\"dataframe\">\n",
       "  <thead>\n",
       "    <tr style=\"text-align: right;\">\n",
       "      <th></th>\n",
       "      <th>15.26</th>\n",
       "      <th>14.84</th>\n",
       "      <th>0.871</th>\n",
       "      <th>5.763</th>\n",
       "      <th>3.312</th>\n",
       "      <th>2.221</th>\n",
       "      <th>5.22</th>\n",
       "      <th>1</th>\n",
       "    </tr>\n",
       "  </thead>\n",
       "  <tbody>\n",
       "    <tr>\n",
       "      <th>0</th>\n",
       "      <td>14.88</td>\n",
       "      <td>14.57</td>\n",
       "      <td>0.8811</td>\n",
       "      <td>5.554</td>\n",
       "      <td>3.333</td>\n",
       "      <td>1.018</td>\n",
       "      <td>4.956</td>\n",
       "      <td>1</td>\n",
       "    </tr>\n",
       "    <tr>\n",
       "      <th>1</th>\n",
       "      <td>14.29</td>\n",
       "      <td>14.09</td>\n",
       "      <td>0.9050</td>\n",
       "      <td>5.291</td>\n",
       "      <td>3.337</td>\n",
       "      <td>2.699</td>\n",
       "      <td>4.825</td>\n",
       "      <td>1</td>\n",
       "    </tr>\n",
       "    <tr>\n",
       "      <th>2</th>\n",
       "      <td>13.84</td>\n",
       "      <td>13.94</td>\n",
       "      <td>0.8955</td>\n",
       "      <td>5.324</td>\n",
       "      <td>3.379</td>\n",
       "      <td>2.259</td>\n",
       "      <td>4.805</td>\n",
       "      <td>1</td>\n",
       "    </tr>\n",
       "    <tr>\n",
       "      <th>3</th>\n",
       "      <td>16.14</td>\n",
       "      <td>14.99</td>\n",
       "      <td>0.9034</td>\n",
       "      <td>5.658</td>\n",
       "      <td>3.562</td>\n",
       "      <td>1.355</td>\n",
       "      <td>5.175</td>\n",
       "      <td>1</td>\n",
       "    </tr>\n",
       "    <tr>\n",
       "      <th>4</th>\n",
       "      <td>14.38</td>\n",
       "      <td>14.21</td>\n",
       "      <td>0.8951</td>\n",
       "      <td>5.386</td>\n",
       "      <td>3.312</td>\n",
       "      <td>2.462</td>\n",
       "      <td>4.956</td>\n",
       "      <td>1</td>\n",
       "    </tr>\n",
       "  </tbody>\n",
       "</table>\n",
       "</div>"
      ],
      "text/plain": [
       "   15.26  14.84   0.871  5.763  3.312  2.221   5.22  1\n",
       "0  14.88  14.57  0.8811  5.554  3.333  1.018  4.956  1\n",
       "1  14.29  14.09  0.9050  5.291  3.337  2.699  4.825  1\n",
       "2  13.84  13.94  0.8955  5.324  3.379  2.259  4.805  1\n",
       "3  16.14  14.99  0.9034  5.658  3.562  1.355  5.175  1\n",
       "4  14.38  14.21  0.8951  5.386  3.312  2.462  4.956  1"
      ]
     },
     "execution_count": 2,
     "metadata": {},
     "output_type": "execute_result"
    }
   ],
   "source": [
    "data=pd.read_csv(\"./seeds.csv\")\n",
    "data.head()"
   ]
  },
  {
   "cell_type": "code",
   "execution_count": 3,
   "metadata": {},
   "outputs": [
    {
     "data": {
      "text/plain": [
       "15.26    float64\n",
       "14.84    float64\n",
       "0.871    float64\n",
       "5.763    float64\n",
       "3.312    float64\n",
       "2.221    float64\n",
       "5.22     float64\n",
       "1          int64\n",
       "dtype: object"
      ]
     },
     "execution_count": 3,
     "metadata": {},
     "output_type": "execute_result"
    }
   ],
   "source": [
    "data.dtypes"
   ]
  },
  {
   "cell_type": "code",
   "execution_count": 4,
   "metadata": {},
   "outputs": [
    {
     "data": {
      "text/plain": [
       "(209, 8)"
      ]
     },
     "execution_count": 4,
     "metadata": {},
     "output_type": "execute_result"
    }
   ],
   "source": [
    "data.shape"
   ]
  },
  {
   "cell_type": "code",
   "execution_count": 5,
   "metadata": {},
   "outputs": [
    {
     "data": {
      "text/plain": [
       "Index(['15.26', '14.84', '0.871', '5.763', '3.312', '2.221', '5.22', '1'], dtype='object')"
      ]
     },
     "execution_count": 5,
     "metadata": {},
     "output_type": "execute_result"
    }
   ],
   "source": [
    "data.columns"
   ]
  },
  {
   "cell_type": "code",
   "execution_count": 21,
   "metadata": {},
   "outputs": [
    {
     "name": "stdout",
     "output_type": "stream",
     "text": [
      "         a      b       c      d      e       f      g  h\n",
      "0    14.88  14.57  0.8811  5.554  3.333  1.0180  4.956  1\n",
      "1    14.29  14.09  0.9050  5.291  3.337  2.6990  4.825  1\n",
      "2    13.84  13.94  0.8955  5.324  3.379  2.2590  4.805  1\n",
      "3    16.14  14.99  0.9034  5.658  3.562  1.3550  5.175  1\n",
      "4    14.38  14.21  0.8951  5.386  3.312  2.4620  4.956  1\n",
      "5    14.69  14.49  0.8799  5.563  3.259  3.5860  5.219  1\n",
      "6    14.11  14.10  0.8911  5.420  3.302  2.7000  5.000  1\n",
      "7    16.63  15.46  0.8747  6.053  3.465  2.0400  5.877  1\n",
      "8    16.44  15.25  0.8880  5.884  3.505  1.9690  5.533  1\n",
      "9    15.26  14.85  0.8696  5.714  3.242  4.5430  5.314  1\n",
      "10   14.03  14.16  0.8796  5.438  3.201  1.7170  5.001  1\n",
      "11   13.89  14.02  0.8880  5.439  3.199  3.9860  4.738  1\n",
      "12   13.78  14.06  0.8759  5.479  3.156  3.1360  4.872  1\n",
      "13   13.74  14.05  0.8744  5.482  3.114  2.9320  4.825  1\n",
      "14   14.59  14.28  0.8993  5.351  3.333  4.1850  4.781  1\n",
      "15   13.99  13.83  0.9183  5.119  3.383  5.2340  4.781  1\n",
      "16   15.69  14.75  0.9058  5.527  3.514  1.5990  5.046  1\n",
      "17   14.70  14.21  0.9153  5.205  3.466  1.7670  4.649  1\n",
      "18   12.72  13.57  0.8686  5.226  3.049  4.1020  4.914  1\n",
      "19   14.16  14.40  0.8584  5.658  3.129  3.0720  5.176  1\n",
      "20   14.11  14.26  0.8722  5.520  3.168  2.6880  5.219  1\n",
      "21   15.88  14.90  0.8988  5.618  3.507  0.7651  5.091  1\n",
      "22   12.08  13.23  0.8664  5.099  2.936  1.4150  4.961  1\n",
      "23   15.01  14.76  0.8657  5.789  3.245  1.7910  5.001  1\n",
      "24   16.19  15.16  0.8849  5.833  3.421  0.9030  5.307  1\n",
      "25   13.02  13.76  0.8641  5.395  3.026  3.3730  4.825  1\n",
      "26   12.74  13.67  0.8564  5.395  2.956  2.5040  4.869  1\n",
      "27   14.11  14.18  0.8820  5.541  3.221  2.7540  5.038  1\n",
      "28   13.45  14.02  0.8604  5.516  3.065  3.5310  5.097  1\n",
      "29   13.16  13.82  0.8662  5.454  2.975  0.8551  5.056  1\n",
      "..     ...    ...     ...    ...    ...     ...    ... ..\n",
      "179  11.41  12.95  0.8560  5.090  2.775  4.9570  4.825  3\n",
      "180  12.46  13.41  0.8706  5.236  3.017  4.9870  5.147  3\n",
      "181  12.19  13.36  0.8579  5.240  2.909  4.8570  5.158  3\n",
      "182  11.65  13.07  0.8575  5.108  2.850  5.2090  5.135  3\n",
      "183  12.89  13.77  0.8541  5.495  3.026  6.1850  5.316  3\n",
      "184  11.56  13.31  0.8198  5.363  2.683  4.0620  5.182  3\n",
      "185  11.81  13.45  0.8198  5.413  2.716  4.8980  5.352  3\n",
      "186  10.91  12.80  0.8372  5.088  2.675  4.1790  4.956  3\n",
      "187  11.23  12.82  0.8594  5.089  2.821  7.5240  4.957  3\n",
      "188  10.59  12.41  0.8648  4.899  2.787  4.9750  4.794  3\n",
      "189  10.93  12.80  0.8390  5.046  2.717  5.3980  5.045  3\n",
      "190  11.27  12.86  0.8563  5.091  2.804  3.9850  5.001  3\n",
      "191  11.87  13.02  0.8795  5.132  2.953  3.5970  5.132  3\n",
      "192  10.82  12.83  0.8256  5.180  2.630  4.8530  5.089  3\n",
      "193  12.11  13.27  0.8639  5.236  2.975  4.1320  5.012  3\n",
      "194  12.80  13.47  0.8860  5.160  3.126  4.8730  4.914  3\n",
      "195  12.79  13.53  0.8786  5.224  3.054  5.4830  4.958  3\n",
      "196  13.37  13.78  0.8849  5.320  3.128  4.6700  5.091  3\n",
      "197  12.62  13.67  0.8481  5.410  2.911  3.3060  5.231  3\n",
      "198  12.76  13.38  0.8964  5.073  3.155  2.8280  4.830  3\n",
      "199  12.38  13.44  0.8609  5.219  2.989  5.4720  5.045  3\n",
      "200  12.67  13.32  0.8977  4.984  3.135  2.3000  4.745  3\n",
      "201  11.18  12.72  0.8680  5.009  2.810  4.0510  4.828  3\n",
      "202  12.70  13.41  0.8874  5.183  3.091  8.4560  5.000  3\n",
      "203  12.37  13.47  0.8567  5.204  2.960  3.9190  5.001  3\n",
      "204  12.19  13.20  0.8783  5.137  2.981  3.6310  4.870  3\n",
      "205  11.23  12.88  0.8511  5.140  2.795  4.3250  5.003  3\n",
      "206  13.20  13.66  0.8883  5.236  3.232  8.3150  5.056  3\n",
      "207  11.84  13.21  0.8521  5.175  2.836  3.5980  5.044  3\n",
      "208  12.30  13.34  0.8684  5.243  2.974  5.6370  5.063  3\n",
      "\n",
      "[209 rows x 8 columns]\n"
     ]
    }
   ],
   "source": [
    "p=data.rename({\"15.26\":\"a\",\"14.84\":\"b\",\"0.871\":\"c\",\"5.763\":\"d\",\"3.312\":\"e\",\"2.221\":\"f\",\"5.22\":\"g\",\"1\":\"h\"},axis=1)\n",
    "print(p)"
   ]
  },
  {
   "cell_type": "code",
   "execution_count": 22,
   "metadata": {},
   "outputs": [
    {
     "data": {
      "text/plain": [
       "a    float64\n",
       "b    float64\n",
       "c    float64\n",
       "d    float64\n",
       "e    float64\n",
       "f    float64\n",
       "g    float64\n",
       "h      int64\n",
       "dtype: object"
      ]
     },
     "execution_count": 22,
     "metadata": {},
     "output_type": "execute_result"
    }
   ],
   "source": [
    "p.dtypes"
   ]
  },
  {
   "cell_type": "code",
   "execution_count": 40,
   "metadata": {},
   "outputs": [],
   "source": [
    "x=p[[\"a\",\"f\"]]\n",
    "x=x.values"
   ]
  },
  {
   "cell_type": "code",
   "execution_count": 41,
   "metadata": {},
   "outputs": [
    {
     "data": {
      "image/png": "[encoded data removed]",
      "text/plain": [
       "<Figure size 432x288 with 1 Axes>"
      ]
     },
     "metadata": {},
     "output_type": "display_data"
    }
   ],
   "source": [
    "import matplotlib.pyplot as plt \n",
    "%matplotlib inline \n",
    "plt.scatter(x[:,0],x[:,1])\n",
    "plt.show()"
   ]
  },
  {
   "cell_type": "code",
   "execution_count": 35,
   "metadata": {},
   "outputs": [
    {
     "data": {
      "text/plain": [
       "a    8.506233\n",
       "b    1.713347\n",
       "c    0.000561\n",
       "d    0.197162\n",
       "e    0.143340\n",
       "f    2.260983\n",
       "g    0.242544\n",
       "h    0.668246\n",
       "dtype: float64"
      ]
     },
     "execution_count": 35,
     "metadata": {},
     "output_type": "execute_result"
    }
   ],
   "source": [
    "p.var()"
   ]
  },
  {
   "cell_type": "code",
   "execution_count": null,
   "metadata": {},
   "outputs": [],
   "source": []
  }
 ],
 "metadata": {
  "kernelspec": {
   "display_name": "Python 3",
   "language": "python",
   "name": "python3"
  },
  "language_info": {
   "codemirror_mode": {
    "name": "ipython",
    "version": 3
   },
   "file_extension": ".py",
   "mimetype": "text/x-python",
   "name": "python",
   "nbconvert_exporter": "python",
   "pygments_lexer": "ipython3",
   "version": "3.6.5"
  }
 },
 "nbformat": 4,
 "nbformat_minor": 2
}
