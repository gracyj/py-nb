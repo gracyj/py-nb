{
 "cells": [
  {
   "cell_type": "code",
   "execution_count": 2,
   "metadata": {},
   "outputs": [
    {
     "name": "stdout",
     "output_type": "stream",
     "text": [
      "enter first number 6\n",
      "enter second number 8\n",
      "enter third number 9\n",
      "[6, 8, 9]\n",
      "6\n",
      "9\n",
      "23\n",
      "8\n"
     ]
    }
   ],
   "source": [
    "fn=int(input(\"enter first number \"))\n",
    "sn=int(input(\"enter second number \"))\n",
    "tn=int(input(\"enter third number \"))\n",
    "list=[fn,sn,tn]\n",
    "print(list)\n",
    "print(min(list))\n",
    "print(max(list))\n",
    "print(sum(list))\n",
    "mid=sum(list)-max(list)-min(list)\n",
    "print(mid)"
   ]
  },
  {
   "cell_type": "code",
   "execution_count": 3,
   "metadata": {},
   "outputs": [
    {
     "name": "stdout",
     "output_type": "stream",
     "text": [
      "list of months: jan,feb,mar,apr,may,jun,jul,aug,sep,oct,nov,dec\n",
      "enter month: apr\n",
      "apr has 30 days.\n"
     ]
    }
   ],
   "source": [
    "print(\"list of months: jan,feb,mar,apr,may,jun,jul,aug,sep,oct,nov,dec\")\n",
    "month=str(input(\"enter month: \"))\n",
    "if month in(\"jan\",\"mar\",\"may\",\"jul\",\"sep\",\"nov\"):\n",
    "     print(month,\"has 31 days.\")\n",
    "elif month in(\"apr\",\"jun\",\"aug\",\"oct\",\"dec\"):\n",
    "      print(month,\"has 30 days.\")\n",
    "elif month==\"feb\":\n",
    "        print(month,\"has 28 or 29 days.\")\n",
    "else:\n",
    "          print(\"wrong name entered\")"
   ]
  },
  {
   "cell_type": "code",
   "execution_count": 1,
   "metadata": {},
   "outputs": [
    {
     "name": "stdout",
     "output_type": "stream",
     "text": [
      "enter height of right triangle:1\n",
      "enter base of right triangle:2\n",
      "the length of hypotenuse is 2.23606797749979\n"
     ]
    }
   ],
   "source": [
    "h=float(input(\"enter height of right triangle:\"))\n",
    "b=float(input(\"enter base of right triangle:\"))\n",
    "hypo=(((h**2)+(b**2))**0.5)\n",
    "print(\"the length of hypotenuse is\",hypo)"
   ]
  },
  {
   "cell_type": "code",
   "execution_count": 2,
   "metadata": {},
   "outputs": [
    {
     "name": "stdout",
     "output_type": "stream",
     "text": [
      "enter height of right triangle:2\n",
      "enter base of right triangle:1\n",
      "2.23606797749979\n"
     ]
    }
   ],
   "source": [
    "def hypot(h,b):\n",
    "    return(((h**2)+(b**2))**0.5)\n",
    "f=float(input(\"enter height of right triangle:\"))\n",
    "s=float(input(\"enter base of right triangle:\"))\n",
    "print (hypot(f,s))"
   ]
  },
  {
   "cell_type": "code",
   "execution_count": 3,
   "metadata": {},
   "outputs": [
    {
     "name": "stdout",
     "output_type": "stream",
     "text": [
      "enter any stringhappy\n"
     ]
    },
    {
     "data": {
      "text/plain": [
       "'Happy'"
      ]
     },
     "execution_count": 3,
     "metadata": {},
     "output_type": "execute_result"
    }
   ],
   "source": [
    "h=input(\"enter any string\")\n",
    "h.capitalize()"
   ]
  },
  {
   "cell_type": "code",
   "execution_count": 3,
   "metadata": {},
   "outputs": [
    {
     "name": "stdout",
     "output_type": "stream",
     "text": [
      "enter number:3\n",
      "enter number:2\n",
      "enter number:7\n",
      "enter number:0\n",
      "the average of entered numbers is 4.0\n"
     ]
    }
   ],
   "source": [
    "count=0\n",
    "j=0\n",
    "for item in range(0,20):\n",
    "    i=int(input(\"enter number:\"))\n",
    "    if i==0:\n",
    "        break\n",
    "    else:\n",
    "        j=j+i\n",
    "        count=count+1\n",
    "if count==0:\n",
    "    print(\"first number cannot be zero\")\n",
    "else:\n",
    "    avg=j/count\n",
    "    print(\"the average of entered numbers is\",avg)"
   ]
  },
  {
   "cell_type": "code",
   "execution_count": 6,
   "metadata": {},
   "outputs": [
    {
     "name": "stdout",
     "output_type": "stream",
     "text": [
      "enter stirng hello i am mango\n",
      "Hello I am mango\n"
     ]
    }
   ],
   "source": [
    "def cap(name1):\n",
    "    name=name1.capitalize()\n",
    "    name=name.replace(\" i \", \" I \")\n",
    "    return name\n",
    "n=input(\"enter stirng \")\n",
    "print(cap(n)) "
   ]
  },
  {
   "cell_type": "code",
   "execution_count": 8,
   "metadata": {},
   "outputs": [
    {
     "name": "stdout",
     "output_type": "stream",
     "text": [
      "enter number:3\n",
      "enter number:4\n",
      "enter number:5\n",
      "enter number:0\n",
      "[3, 4, 5]\n",
      "[5, 4, 3]\n"
     ]
    }
   ],
   "source": [
    "ig=[]\n",
    "for i in range(0,20):\n",
    "    a=int(input(\"enter number:\"))\n",
    "    if a==0:\n",
    "        break\n",
    "    else:\n",
    "        ig.append(a)\n",
    "        count=count+1\n",
    "print(ig)\n",
    "print(ig[count::-1])\n",
    "    "
   ]
  },
  {
   "cell_type": "code",
   "execution_count": 46,
   "metadata": {},
   "outputs": [
    {
     "name": "stdout",
     "output_type": "stream",
     "text": [
      "enter string:h\n"
     ]
    },
    {
     "ename": "KeyError",
     "evalue": "'h'",
     "output_type": "error",
     "traceback": [
      "\u001b[1;31m---------------------------------------------------------------------------\u001b[0m",
      "\u001b[1;31mKeyError\u001b[0m                                  Traceback (most recent call last)",
      "\u001b[1;32m<ipython-input-46-5b190685f87a>\u001b[0m in \u001b[0;36m<module>\u001b[1;34m()\u001b[0m\n\u001b[0;32m     27\u001b[0m \u001b[0mstring\u001b[0m\u001b[1;33m=\u001b[0m\u001b[0minput\u001b[0m\u001b[1;33m(\u001b[0m\u001b[1;34m\"enter string:\"\u001b[0m\u001b[1;33m)\u001b[0m\u001b[1;33m\u001b[0m\u001b[0m\n\u001b[0;32m     28\u001b[0m \u001b[1;32mfor\u001b[0m \u001b[0mi\u001b[0m \u001b[1;32min\u001b[0m \u001b[0mstring\u001b[0m\u001b[1;33m:\u001b[0m\u001b[1;33m\u001b[0m\u001b[0m\n\u001b[1;32m---> 29\u001b[1;33m     \u001b[0mprint\u001b[0m\u001b[1;33m(\u001b[0m\u001b[0mmo\u001b[0m\u001b[1;33m[\u001b[0m\u001b[0mi\u001b[0m\u001b[1;33m]\u001b[0m\u001b[1;33m,\u001b[0m\u001b[0mend\u001b[0m\u001b[1;33m=\u001b[0m\u001b[1;34m\" \"\u001b[0m\u001b[1;33m)\u001b[0m\u001b[1;33m\u001b[0m\u001b[0m\n\u001b[0m",
      "\u001b[1;31mKeyError\u001b[0m: 'h'"
     ]
    }
   ],
   "source": [
    "mo={\"A\":\".-\",\n",
    "   \"B\":\"-...\",\n",
    "   \"C\":\"-.-.\",\n",
    "   \"D\":\"-..\",\n",
    "   \"E\":\".\",\n",
    "   \"F\":\"..-.\",\n",
    "   \"G\":\"--.\",\n",
    "   \"H\":\"....\", \n",
    "   \"I\":\"..\",\n",
    "   \"J\":\".---\", \n",
    "   \"K\":\"-.-\",\n",
    "   \"L\":\".-..\",\n",
    "   \"M\":\"--\",\n",
    "   \"N\":\"-.\",\n",
    "   \"O\":\"---\", \n",
    "   \"P\":\".--.\",\n",
    "   \"Q\":\"--.-\",\n",
    "   \"R\":\".-.\",\n",
    "   \"S\":\"...\", \n",
    "   \"T\":\"-\", \n",
    "   \"U\":\"..-\",\n",
    "   \"V\":\"...-\",\n",
    "   \"W\":\".--\",\n",
    "   \"X\":\"-..-\",\n",
    "   \"Y\":\"-.--\",\n",
    "   \"Z\":\"--..\"}\n",
    "string=input(\"enter string:\")\n",
    "for i in string:\n",
    "    print(mo[i],end=\" \")"
   ]
  },
  {
   "cell_type": "code",
   "execution_count": 41,
   "metadata": {},
   "outputs": [
    {
     "data": {
      "text/plain": [
       "0"
      ]
     },
     "execution_count": 41,
     "metadata": {},
     "output_type": "execute_result"
    }
   ],
   "source": [
    "from random import randint\n",
    "\n",
    "randint(0,9)"
   ]
  },
  {
   "cell_type": "code",
   "execution_count": 51,
   "metadata": {},
   "outputs": [
    {
     "name": "stdout",
     "output_type": "stream",
     "text": [
      "enter string:okk\n",
      "{0: 'o', 1: 'k'}\n",
      "number of unique characters in string are 2\n"
     ]
    }
   ],
   "source": [
    "c={}\n",
    "count=0\n",
    "string=input(\"enter string:\")\n",
    "for i in string:\n",
    "    if i==\" \":\n",
    "        continue\n",
    "    elif i not in c.values():\n",
    "        c[count]=i\n",
    "        count=count+1\n",
    "print(c)\n",
    "print(\"number of unique characters in string are\",len(c))"
   ]
  },
  {
   "cell_type": "code",
   "execution_count": 49,
   "metadata": {},
   "outputs": [
    {
     "data": {
      "text/plain": [
       "'W'"
      ]
     },
     "execution_count": 49,
     "metadata": {},
     "output_type": "execute_result"
    }
   ],
   "source": [
    "letter_string = \"ABCDEFGHIJKLMNOPQRSTUVWXYZ\"\n",
    "\n",
    "letter_1 = randint(0,25)\n",
    "letter_1 = letter_string[letter_1]\n",
    "\n",
    "letter_1"
   ]
  },
  {
   "cell_type": "code",
   "execution_count": 52,
   "metadata": {},
   "outputs": [
    {
     "name": "stdout",
     "output_type": "stream",
     "text": [
      "enter string:watermelon\n",
      "enter width:3\n",
      "   watermelon\n",
      "   "
     ]
    }
   ],
   "source": [
    "f=input(\"enter string:\")\n",
    "width=int(input(\"enter width:\"))\n",
    "for i in range(0,width):\n",
    "    print(\" \",end=\"\")\n",
    "print(f)\n",
    "for i in range(0,width):\n",
    "    print(\" \",end=\"\")"
   ]
  },
  {
   "cell_type": "code",
   "execution_count": 63,
   "metadata": {},
   "outputs": [
    {
     "name": "stdout",
     "output_type": "stream",
     "text": [
      "enter value:7\n",
      "string is integer\n"
     ]
    }
   ],
   "source": [
    "def isInteger(string):\n",
    "    for i in string:\n",
    "        if i==\" \":\n",
    "            continue\n",
    "        elif len(string) >=1 and i in(\"0\",\"1\",\"2\",\"3\",\"4\",\"5\",\"6\",\"7\",\"8\",\"9\"):\n",
    "            print(\"string is integer\")\n",
    "    \n",
    "        elif i in(\"+\",\"-\"):\n",
    "            continue\n",
    "        else:\n",
    "            print(\"not integer\")\n",
    "            \n",
    "string=input(\"enter value:\")\n",
    "isInteger(string)"
   ]
  },
  {
   "cell_type": "code",
   "execution_count": 62,
   "metadata": {},
   "outputs": [
    {
     "name": "stdout",
     "output_type": "stream",
     "text": [
      "enter number:4\n",
      "not prime\n"
     ]
    }
   ],
   "source": [
    "def is_prime(n):\n",
    "    if n==2 or n==3:\n",
    "        print(\"prime\")\n",
    "    else:\n",
    "        for i in range(2,int(n/2)+1):\n",
    "            if n% int(i)==0:\n",
    "                print(\"not prime\")\n",
    "            else:\n",
    "                print(\"prime\")\n",
    "num=int(input(\"enter number:\"))\n",
    "is_prime(num)"
   ]
  }
 ],
 "metadata": {
  "kernelspec": {
   "display_name": "Python 3",
   "language": "python",
   "name": "python3"
  },
  "language_info": {
   "codemirror_mode": {
    "name": "ipython",
    "version": 3
   },
   "file_extension": ".py",
   "mimetype": "text/x-python",
   "name": "python",
   "nbconvert_exporter": "python",
   "pygments_lexer": "ipython3",
   "version": "3.6.5"
  }
 },
 "nbformat": 4,
 "nbformat_minor": 2
}
